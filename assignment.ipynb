{
 "cells": [
  {
   "cell_type": "markdown",
   "metadata": {},
   "source": [
    "Opgave 1\n",
    "\n",
    "Model an organisation of employees, management and board of directors in 3 sets.\n",
    "\n",
    "Board of directors: Benny, Hans, Tine, Mille, Torben, Troels, Søren\n",
    "\n",
    "Management: Tine, Trunte, Rane\n",
    "\n",
    "Employees: Niels, Anna, Tine, Ole, Trunte, Bent, Rane, Allan, Stine, Claus, James, Lars\n",
    "\n",
    "who in the board of directors is not an employee?\n",
    "who in the board of directors is also an employee?\n",
    "how many of the management is also member of the board?\n",
    "All members of the managent also an employee\n",
    "All members of the management also in the board?\n",
    "Who is an employee, member of the management, and a member of the board?\n",
    "Who of the employee is neither a memeber or the board or management\n",
    "\n",
    "Note: set er forskellig fra liste ved at den kun kan have unikke værdier og vil fjerne duplicates.\n",
    "set er forskellig fra dictionary da det ikke har key value pairs. Bruger dog også curly brackets. \n",
    "husk: snake_case in python\n",
    "\n",
    "Hvordan opgaven er løst: har kigget på built-in functions for de objekter, som man har med at gøre. "
   ]
  },
  {
   "cell_type": "code",
   "execution_count": 17,
   "metadata": {},
   "outputs": [
    {
     "data": {
      "text/plain": [
       "{'Allan', 'Anna', 'Bent', 'Claus', 'James', 'Lars', 'Niels', 'Ole', 'Stine'}"
      ]
     },
     "execution_count": 17,
     "metadata": {},
     "output_type": "execute_result"
    }
   ],
   "source": [
    "board_of_directors = {\"Benny\", \"Hans\", \"Tine\", \"Mille\", \"Torben\", \"Troels\", \"Søren\"}\n",
    "management = {\"Tine\", \"Trunte\", \"Rane\"}\n",
    "employees = {\"Niels\", \"Anna\", \"Tine\", \"Ole\", \"Trunte\", \"Bent\", \"Rane\", \"Allan\", \"Stine\", \"Claus\", \"James\", \"Lars\"}\n",
    "\n",
    "#who in the board of directors is not an employee?\n",
    "board_of_directors.difference(employees)\n",
    "\n",
    "#who in the board of directors is also an employee?\n",
    "board_of_directors.intersection(employees)\n",
    "# kunne også være: employees.intersection(board_of_directors), det er det samme med intersectio\n",
    "\n",
    "#how many of the management is also member of the board?\n",
    "len(board_of_directors.intersection(management))\n",
    "\n",
    "#All members of the managent also an employee\n",
    "management.issubset(employees)\n",
    "\n",
    "#All members of the management also in the board?\n",
    "management.issubset(board_of_directors)\n",
    "\n",
    "#Who is an employee, member of the management, and a member of the board?\n",
    "board_of_directors.intersection(employees.intersection(management))\n",
    "#optimeret løsning:\n",
    "board_of_directors.intersection(employees, management)\n",
    "\n",
    "#Who of the employee is neither a memeber or the board or management\n",
    "employees.difference(board_of_directors, management)"
   ]
  },
  {
   "cell_type": "markdown",
   "metadata": {},
   "source": [
    "Opgave 2\n",
    "\n",
    "Create a list of tuples from the folowing datastructure\n",
    "\n",
    "{‘a’: ‘Alpha’, ‘b’ : ‘Beta’, ‘g’: ‘Gamma’}"
   ]
  },
  {
   "cell_type": "code",
   "execution_count": 19,
   "metadata": {},
   "outputs": [
    {
     "data": {
      "text/plain": [
       "[('a', 'Alpha'), ('b', 'Beta'), ('g', 'Gamma')]"
      ]
     },
     "execution_count": 19,
     "metadata": {},
     "output_type": "execute_result"
    }
   ],
   "source": [
    "[('a', 'Alpha'), ('b', 'Beta'), ('g', 'Gamma')]"
   ]
  },
  {
   "cell_type": "markdown",
   "metadata": {},
   "source": [
    "Opgave 3\n",
    "\n",
    "From these 2 sets:\n",
    "{'a', 'e', 'i', 'o', 'u', 'y'}\n",
    "\n",
    "{'a', 'e', 'i', 'o', 'u', 'y', 'æ' ,'ø', 'å'}\n",
    "\n",
    "Create a:\n",
    "\n",
    "Union\n",
    "Symmetric Difference\n",
    "Difference\n",
    "disjoint\n",
    "\n",
    "You should provide the solutions both using:\n",
    "\n",
    "Set methods ( like: S1.union(S2) or S1.add(x)  ), and\n",
    "Set oprators ( like: S1|S2 or S1&S2)\n",
    "\n",
    "So all solutions has to be solved twice. "
   ]
  },
  {
   "cell_type": "code",
   "execution_count": 26,
   "metadata": {},
   "outputs": [
    {
     "data": {
      "text/plain": [
       "False"
      ]
     },
     "execution_count": 26,
     "metadata": {},
     "output_type": "execute_result"
    }
   ],
   "source": [
    "set1 = {'a', 'e', 'i', 'o', 'u', 'y'}\n",
    "set2 = {'a', 'e', 'i', 'o', 'u', 'y', 'æ' ,'ø', 'å'}\n",
    "\n",
    "set1.union(set2)\n",
    "set1 | set2\n",
    "\n",
    "set1.symmetric_difference(set2)\n",
    "set1 ^ set2\n",
    "\n",
    "set1.difference(set2)\n",
    "set1 - set2\n",
    "\n",
    "set1.isdisjoint(set2)\n",
    "not bool(set1 & set2)\n"
   ]
  },
  {
   "cell_type": "markdown",
   "metadata": {},
   "source": [
    "Opgave 4\n",
    "\n",
    "Date Decoder.\n",
    "A date of the form 8-MAR-85 includes the name of the month, which must be translated to a number.\n",
    "\n",
    "Create a dict suitable for decoding month names to numbers.\n",
    "\n",
    "Create a function which uses string operations to split the date into 3 items using the \"-\" character.\n",
    "\n",
    "Translate the month, correct the year to include all of the digits.\n",
    "\n",
    " \n",
    "\n",
    "The function will accept a date in the \"dd-MMM-yy\" format and respond with a tuple of ( y , m , d )."
   ]
  },
  {
   "cell_type": "code",
   "execution_count": null,
   "metadata": {},
   "outputs": [],
   "source": [
    "#A date of the form 8-MAR-85 includes the name of the month, which must be translated to a number.\n",
    "\n",
    "def dates(date):\n",
    "    month_dict = {\n",
    "        'JAN': '01', 'FEB': '02', 'MAR': '03', 'APR': '04', 'MAY': '05', 'JUN': '06', 'JUL': '07', 'AUG': '08', 'SEP': '09', 'OCT': '10', 'NOV': '11', 'DEC': '12'\n",
    "    }\n",
    "\n"
   ]
  }
 ],
 "metadata": {
  "kernelspec": {
   "display_name": "Python 3",
   "language": "python",
   "name": "python3"
  },
  "language_info": {
   "codemirror_mode": {
    "name": "ipython",
    "version": 3
   },
   "file_extension": ".py",
   "mimetype": "text/x-python",
   "name": "python",
   "nbconvert_exporter": "python",
   "pygments_lexer": "ipython3",
   "version": "3.10.12"
  },
  "orig_nbformat": 4
 },
 "nbformat": 4,
 "nbformat_minor": 2
}
